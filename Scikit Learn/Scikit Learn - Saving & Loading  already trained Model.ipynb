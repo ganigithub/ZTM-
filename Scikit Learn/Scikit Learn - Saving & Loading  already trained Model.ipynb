{
 "cells": [
  {
   "cell_type": "markdown",
   "id": "75c53909",
   "metadata": {},
   "source": [
    "## Saving & Loading already trained model using `pickle` & `joblib`"
   ]
  },
  {
   "cell_type": "code",
   "execution_count": 1,
   "id": "37d3af8b",
   "metadata": {},
   "outputs": [],
   "source": [
    "import pandas as pd\n",
    "import numpy as np"
   ]
  },
  {
   "cell_type": "code",
   "execution_count": 7,
   "id": "4b0903f0",
   "metadata": {},
   "outputs": [],
   "source": [
    "df = pd.read_csv('data/heart-disease.csv')\n",
    "x = df.drop('target',axis=1)\n",
    "y = df.target\n",
    "\n",
    "from sklearn.model_selection import train_test_split\n",
    "from sklearn.ensemble import RandomForestClassifier\n",
    "\n",
    "np.random.seed(1)\n",
    "x_train,x_test,y_train,y_test = train_test_split(x,y,test_size=0.2,random_state=1)\n",
    "clf = RandomForestClassifier()"
   ]
  },
  {
   "cell_type": "code",
   "execution_count": 8,
   "id": "f7bd2352",
   "metadata": {},
   "outputs": [],
   "source": [
    "from sklearn.model_selection import GridSearchCV\n",
    "\n",
    "grid = {'n_estimators': [10, 100, 200],\n",
    "         'max_depth': [None, 10],\n",
    "         'max_features': ['auto', 'sqrt'],\n",
    "         'min_samples_split': [2],\n",
    "         'min_samples_leaf': [2, 4]}"
   ]
  },
  {
   "cell_type": "code",
   "execution_count": 9,
   "id": "dd5071a6",
   "metadata": {
    "scrolled": true
   },
   "outputs": [],
   "source": [
    "gs_clf = GridSearchCV(clf, grid, cv = 5, verbose=2)\n",
    "gs_clf.fit(x_train, y_train)"
   ]
  },
  {
   "cell_type": "code",
   "execution_count": 11,
   "id": "d003c830",
   "metadata": {},
   "outputs": [
    {
     "data": {
      "text/plain": [
       "{'max_depth': None,\n",
       " 'max_features': 'auto',\n",
       " 'min_samples_leaf': 4,\n",
       " 'min_samples_split': 2,\n",
       " 'n_estimators': 200}"
      ]
     },
     "execution_count": 11,
     "metadata": {},
     "output_type": "execute_result"
    }
   ],
   "source": [
    "gs_clf.best_params_"
   ]
  },
  {
   "cell_type": "code",
   "execution_count": 17,
   "id": "5f934319",
   "metadata": {},
   "outputs": [],
   "source": [
    "y_pred = gs_clf.predict(x_test)\n",
    "\n",
    "y_pred_prob = gs_clf.predict_proba(x_test)\n",
    "y_pred_prob_positive = y_pred_prob[:, 1]"
   ]
  },
  {
   "cell_type": "code",
   "execution_count": 21,
   "id": "86250162",
   "metadata": {},
   "outputs": [
    {
     "name": "stdout",
     "output_type": "stream",
     "text": [
      "accuracy       : 0.7704918032786885\n",
      "recall         : 0.8709677419354839\n",
      "precision      : 0.7297297297297297\n",
      "roc_auc_score  : 0.875268817204301\n"
     ]
    }
   ],
   "source": [
    "from sklearn.metrics import accuracy_score, recall_score, precision_score, roc_auc_score\n",
    "\n",
    "print('accuracy       :',accuracy_score(y_test,y_pred))\n",
    "print('recall         :',recall_score(y_test,y_pred))\n",
    "print('precision      :',precision_score(y_test,y_pred))"
   ]
  },
  {
   "cell_type": "markdown",
   "id": "f36e5a88",
   "metadata": {},
   "source": [
    "## 1. Saving model using `pickle` module"
   ]
  },
  {
   "cell_type": "code",
   "execution_count": 22,
   "id": "b99ca3ca",
   "metadata": {},
   "outputs": [],
   "source": [
    "import pickle"
   ]
  },
  {
   "cell_type": "code",
   "execution_count": 23,
   "id": "f7031ad6",
   "metadata": {},
   "outputs": [],
   "source": [
    "#save a model\n",
    "\n",
    "pickle.dump(gs_clf, open('gs_clf_model.pkl', 'wb'))"
   ]
  },
  {
   "cell_type": "code",
   "execution_count": 25,
   "id": "fd45a9d7",
   "metadata": {},
   "outputs": [],
   "source": [
    "#load a model\n",
    "\n",
    "model = pickle.load(open('gs_clf_model.pkl','rb'))"
   ]
  },
  {
   "cell_type": "code",
   "execution_count": 35,
   "id": "24048411",
   "metadata": {},
   "outputs": [
    {
     "name": "stdout",
     "output_type": "stream",
     "text": [
      "accuracy       : 0.7704918032786885\n",
      "recall         : 0.8709677419354839\n",
      "precision      : 0.7297297297297297\n"
     ]
    }
   ],
   "source": [
    "pickle_pred = model.predict(x_test)\n",
    "\n",
    "print('accuracy       :',accuracy_score(y_test,pickle_pred))\n",
    "print('recall         :',recall_score(y_test,pickle_pred))\n",
    "print('precision      :',precision_score(y_test,pickle_pred))"
   ]
  },
  {
   "cell_type": "code",
   "execution_count": null,
   "id": "3eccc222",
   "metadata": {},
   "outputs": [],
   "source": []
  },
  {
   "cell_type": "markdown",
   "id": "7791a177",
   "metadata": {},
   "source": [
    "## 2. saving model using joblib"
   ]
  },
  {
   "cell_type": "code",
   "execution_count": 44,
   "id": "2149f437",
   "metadata": {},
   "outputs": [],
   "source": [
    "import joblib\n",
    "\n",
    "joblib.dump(gs_clf, open('gs_clf_model.joblib'))"
   ]
  },
  {
   "cell_type": "code",
   "execution_count": 46,
   "id": "4cadd08e",
   "metadata": {},
   "outputs": [],
   "source": [
    "model = joblib.load('gs_clf_model.joblib')"
   ]
  },
  {
   "cell_type": "code",
   "execution_count": 48,
   "id": "6d4ba39f",
   "metadata": {},
   "outputs": [
    {
     "data": {
      "text/plain": [
       "{'max_depth': None,\n",
       " 'max_features': 'auto',\n",
       " 'min_samples_leaf': 4,\n",
       " 'min_samples_split': 2,\n",
       " 'n_estimators': 200}"
      ]
     },
     "execution_count": 48,
     "metadata": {},
     "output_type": "execute_result"
    }
   ],
   "source": [
    "model.best_params_"
   ]
  },
  {
   "cell_type": "code",
   "execution_count": 49,
   "id": "93e9ef6c",
   "metadata": {},
   "outputs": [
    {
     "name": "stdout",
     "output_type": "stream",
     "text": [
      "accuracy       : 0.7704918032786885\n",
      "recall         : 0.8709677419354839\n",
      "precision      : 0.7297297297297297\n"
     ]
    }
   ],
   "source": [
    "joblib_pred = model.predict(x_test)\n",
    "\n",
    "print('accuracy       :',accuracy_score(y_test,joblib_pred))\n",
    "print('recall         :',recall_score(y_test,joblib_pred))\n",
    "print('precision      :',precision_score(y_test,joblib_pred))"
   ]
  },
  {
   "cell_type": "code",
   "execution_count": null,
   "id": "5d357596",
   "metadata": {},
   "outputs": [],
   "source": []
  }
 ],
 "metadata": {
  "kernelspec": {
   "display_name": "Python 3 (ipykernel)",
   "language": "python",
   "name": "python3"
  },
  "language_info": {
   "codemirror_mode": {
    "name": "ipython",
    "version": 3
   },
   "file_extension": ".py",
   "mimetype": "text/x-python",
   "name": "python",
   "nbconvert_exporter": "python",
   "pygments_lexer": "ipython3",
   "version": "3.9.7"
  }
 },
 "nbformat": 4,
 "nbformat_minor": 5
}
